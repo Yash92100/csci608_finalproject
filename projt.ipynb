{
 "cells": [
  {
   "cell_type": "markdown",
   "id": "f5352658-6f60-4ef0-a5b8-41e56feb1ca1",
   "metadata": {},
   "source": [
    "# Comparing Ibis and Pandas on a Large Dataset (NYC Taxi) and Using JAX for Classification"
   ]
  },
  {
   "cell_type": "markdown",
   "id": "bee6eb79-50e8-4f89-8e59-f9509c452291",
   "metadata": {},
   "source": [
    "## Understanding Ibis\n",
    "\n",
    "### What is Ibis?\n",
    "\n",
    "[Ibis](https://ibis-project.org/) is a Python library that provides a high-level, Pandas-like API for interacting with various backend databases. It allows users to write Pythonic queries that are translated into SQL or other backend-specific query languages, enabling efficient data analysis without needing to write raw SQL.\n",
    "\n",
    "### Key Features of Ibis\n",
    "\n",
    "- **Backend Agnostic:** Ibis supports multiple backends such as DuckDB, BigQuery, PostgreSQL, ClickHouse, and more. This means you can switch databases without changing your Ibis code.\n",
    "- **Lazy Evaluation:** Ibis builds an expression tree representing your queries. Computations are deferred until you explicitly execute the query using `.execute()`. This approach optimizes query execution and reduces memory usage.\n",
    "- **Pandas-like API:** If you're familiar with Pandas, Ibis will feel intuitive. It offers similar functions like `.filter()`, `.select()`, `.mutate()`, `.group_by()`, and `.aggregate()`.\n",
    "- **Scalability:** By leveraging the power of backend databases, Ibis can handle large datasets that might not fit into memory, unlike Pandas which operates in-memory.\n",
    "\n",
    "### How to Set Up Ibis\n",
    "\n",
    "1. **Installation:**\n",
    "```bash\n",
    "pip install ibis-framework duckdb-engine\n",
    "```\n",
    "\n",
    "`ibis-framework`: The core Ibis library.\n",
    "`duckdb-engine`: Backend support for DuckDB.\n",
    "\n",
    "#### Connecting to a Backend:\n",
    "```python\n",
    "import ibis\n",
    "con = ibis.duckdb.connect(':memory:')  # In-memory DuckDB connection\n",
    "```\n",
    "\n",
    "**DuckDB:** An in-process SQL OLAP database management system that is efficient and easy to use.\n",
    "\n",
    "#### Loading Data:\n",
    "```python\n",
    "trips = con.read_parquet('yellow_tripdata_2021-01.parquet', table_name='trips')\n",
    "```\n",
    "This registers the Parquet file as a table in DuckDB. Note that Ibis does not load all data into memory immediately.\n",
    "\n",
    "### Key Ibis Functions and Objects\n",
    "\n",
    "**Table Expressions:** Represent tables in your backend database.\n",
    "```python\n",
    "trips = con.read_parquet('yellow_tripdata_2021-01.parquet', table_name='trips')\n",
    "```\n",
    "\n",
    "**Filtering Data:**\n",
    "```python\n",
    "children = trips.filter(trips.Age < 18)\n",
    "```\n",
    "\n",
    "**Selecting Columns:**\n",
    "```python\n",
    "selected = trips.select(['trip_distance', 'fare_amount'])\n",
    "```\n",
    "\n",
    "**Mutating Data:**\n",
    "```python\n",
    "mutated = trips.mutate(\n",
    "    tip_label=(trips.tip_amount > 0).cast('int32'),\n",
    "    pickup_hour=trips.tpep_pickup_datetime.hour()\n",
    ")\n",
    "```\n",
    "\n",
    "**Grouping and Aggregation:**\n",
    "```python\n",
    "agg = trips.group_by('Sex').aggregate(avg_fare=trips.fare_amount.mean())\n",
    "```\n",
    "\n",
    "**Executing Queries:**\n",
    "```python\n",
    "result_df = agg.execute()  # Converts the Ibis expression to a Pandas DataFrame\n",
    "```\n",
    "\n",
    "### Comparison with Pandas\n",
    "\n",
    "| Aspect         | Ibis                                      | Pandas                                     |\n",
    "|----------------|-------------------------------------------|---------------------------------------------|\n",
    "| Execution Model | Lazy (deferred execution)                | Eager (immediate execution)                 |\n",
    "| Backend Support | Multiple (DuckDB, BigQuery, etc.)        | In-memory only                              |\n",
    "| Scalability     | High (leverages backend databases)       | Limited by available memory                 |\n",
    "| API Familiarity | Pandas-like, SQL-inspired                | DataFrame-centric                           |\n",
    "| Performance     | Optimized for large datasets/complex qs. | Fast for in-memory operations on small data |\n",
    "| Use Case        | Big data analytics, scalable querying    | Data manipulation, exploratory analysis      |\n",
    "\n",
    "\n",
    "### When to Use Ibis\n",
    "- **Large Datasets:** When working with data that doesn't fit into memory.\n",
    "- **Backend Flexibility:** When you need to switch between different database systems.\n",
    "- **Complex Queries:** When performing multi-step aggregations and joins that benefit from database optimizations.\n",
    "\n",
    "### Example Workflow with Ibis\n",
    "\n",
    "```python\n",
    "# Connect to Backend:\n",
    "con = ibis.duckdb.connect(':memory:')\n",
    "\n",
    "# Load Data:\n",
    "trips = con.read_parquet('yellow_tripdata_2021-01.parquet', table_name='trips')\n",
    "\n",
    "# Transform Data:\n",
    "prep = trips.filter([\n",
    "    trips.trip_distance > 0,\n",
    "    trips.fare_amount > 0\n",
    "]).mutate(\n",
    "    tip_label=(trips.tip_amount > 0).cast('int32'),\n",
    "    pickup_hour=trips.tpep_pickup_datetime.hour()\n",
    ")\n",
    "\n",
    "# Execute Query and Load into Pandas:\n",
    "model_df = prep[['tip_label', 'trip_distance', 'fare_amount', 'passenger_count', 'pickup_hour']].limit(200_000).execute()\n",
    "```\n",
    "\n",
    "Ibis provides a powerful abstraction for handling large-scale data analysis tasks efficiently by leveraging the strengths of backend databases while maintaining a user-friendly, Pandas-like interface."
   ]
  },
  {
   "cell_type": "markdown",
   "id": "578437f6",
   "metadata": {},
   "source": [
    "# Comparing Ibis and Pandas on a Large Dataset (NYC Taxi) and Using JAX for Classification\n",
    "\n",
    "## Overview\n",
    "This notebook provides a **comprehensive demonstration** of working with a large real-world dataset, the **NYC Taxi** data, using two different data handling approaches: **Ibis (with DuckDB)** and **Pandas**.\n",
    "\n",
    "We will:\n",
    "1. **Load and query large data**: Show how Ibis differs from Pandas in loading and querying a large dataset.\n",
    "   - We’ll measure load times, perform sample queries, and discuss pros and cons.\n",
    "   - Ibis allows pushing queries into DuckDB, potentially improving performance and scalability.\n",
    "\n",
    "2. **Data Preprocessing for Classification**: We’ll define a binary classification task:\n",
    "   - Predict whether a taxi trip included a positive tip (`tip_amount > 0`) using features like `trip_distance`, `fare_amount`, `passenger_count`, and `pickup_hour`.\n",
    "\n",
    "3. **Classification Models**:\n",
    "   - **Baseline (Scikit-learn)**: We'll use a simple logistic regression model as a baseline.\n",
    "   - **JAX Implementation**: We’ll go deeper into JAX:\n",
    "       - Implement a logistic regression model from scratch.\n",
    "       - Implement a small neural network classifier from scratch to show how JAX can handle more complex models.\n",
    "\n",
    "4. **Comparison and Visualization**:\n",
    "   - We’ll compare the performance (accuracy, F1-score) of the scikit-learn baseline, JAX logistic regression, and JAX neural network.\n",
    "   - Use confusion matrices and plots to visualize results.\n",
    "   - Discuss differences in performance and what might influence these results.\n",
    "\n",
    "This notebook includes extensive explanations in the markdown cells so that even if you're new to Ibis, Pandas, or JAX, you can understand the reasoning behind each step.\n"
   ]
  },
  {
   "cell_type": "code",
   "execution_count": 1,
   "id": "1f514f10",
   "metadata": {},
   "outputs": [],
   "source": [
    "!pip install --quiet ibis-framework duckdb-engine jax jaxlib numpy pandas pyarrow matplotlib scikit-learn optax"
   ]
  },
  {
   "cell_type": "markdown",
   "id": "cf8d2daf",
   "metadata": {},
   "source": [
    "## Imports and Configuration\n",
    "We first import all the necessary libraries.\n",
    "- **ibis** and **duckdb-engine**: For Ibis and DuckDB integration.\n",
    "- **pandas** and **numpy**: For data manipulation and arrays.\n",
    "- **matplotlib**: For plotting graphs.\n",
    "- **scikit-learn**: For the baseline logistic regression model.\n",
    "- **jax**, **optax**: For building and training models in JAX.\n",
    "\n",
    "We also set a plotting style for better visuals."
   ]
  },
  {
   "cell_type": "code",
   "execution_count": 2,
   "id": "0d3049ad",
   "metadata": {},
   "outputs": [],
   "source": [
    "import ibis\n",
    "import duckdb\n",
    "import pandas as pd\n",
    "import numpy as np\n",
    "import matplotlib.pyplot as plt\n",
    "import time\n",
    "from sklearn.linear_model import LogisticRegression\n",
    "from sklearn.metrics import accuracy_score, f1_score, confusion_matrix, ConfusionMatrixDisplay\n",
    "from sklearn.model_selection import train_test_split\n",
    "import jax\n",
    "import jax.numpy as jnp\n",
    "from jax import grad, jit, random\n",
    "import optax\n",
    "from jax import config\n",
    "config.update(\"jax_enable_x64\", True)\n",
    "\n",
    "# Use a built-in matplotlib style\n",
    "plt.style.use('ggplot')"
   ]
  },
  {
   "cell_type": "markdown",
   "id": "c43e24c0",
   "metadata": {},
   "source": [
    "## Data: NYC Taxi (January 2021)\n",
    "We’ll use the **January 2021 NYC Yellow Taxi dataset**, which can be large (hundreds of MBs or more). A large dataset helps illustrate the scalability advantages of Ibis.\n",
    "\n",
    "**File:** `yellow_tripdata_2021-01.parquet`\n",
    "\n",
    "### Classification Task\n",
    "We define a binary classification problem:\n",
    "- Label: `tip_label = 1 if tip_amount > 0 else 0`\n",
    "- Features: `trip_distance`, `fare_amount`, `passenger_count`, `pickup_hour`.\n",
    "\n",
    "Why this task?\n",
    "- It’s simple and intuitive: We want to know if the trip resulted in a tip.\n",
    "- Suitable for logistic regression and neural networks.\n",
    "\n",
    "We’ll first compare how Pandas and Ibis load and query the data."
   ]
  },
  {
   "cell_type": "markdown",
   "id": "b40829a6",
   "metadata": {},
   "source": [
    "## Loading Data with Pandas\n",
    "Pandas loads data eagerly into memory:\n",
    "- Pros: Once loaded, very fast for in-memory computations.\n",
    "- Cons: Large datasets can be slow to load and memory-consuming.\n",
    "\n",
    "We’ll measure the load time."
   ]
  },
  {
   "cell_type": "code",
   "execution_count": 3,
   "id": "1e78d9fb",
   "metadata": {},
   "outputs": [
    {
     "name": "stdout",
     "output_type": "stream",
     "text": [
      "Pandas load time: 1.77 seconds\n"
     ]
    },
    {
     "data": {
      "text/html": [
       "<div>\n",
       "<style scoped>\n",
       "    .dataframe tbody tr th:only-of-type {\n",
       "        vertical-align: middle;\n",
       "    }\n",
       "\n",
       "    .dataframe tbody tr th {\n",
       "        vertical-align: top;\n",
       "    }\n",
       "\n",
       "    .dataframe thead th {\n",
       "        text-align: right;\n",
       "    }\n",
       "</style>\n",
       "<table border=\"1\" class=\"dataframe\">\n",
       "  <thead>\n",
       "    <tr style=\"text-align: right;\">\n",
       "      <th></th>\n",
       "      <th>VendorID</th>\n",
       "      <th>tpep_pickup_datetime</th>\n",
       "      <th>tpep_dropoff_datetime</th>\n",
       "      <th>passenger_count</th>\n",
       "      <th>trip_distance</th>\n",
       "      <th>RatecodeID</th>\n",
       "      <th>store_and_fwd_flag</th>\n",
       "      <th>PULocationID</th>\n",
       "      <th>DOLocationID</th>\n",
       "      <th>payment_type</th>\n",
       "      <th>fare_amount</th>\n",
       "      <th>extra</th>\n",
       "      <th>mta_tax</th>\n",
       "      <th>tip_amount</th>\n",
       "      <th>tolls_amount</th>\n",
       "      <th>improvement_surcharge</th>\n",
       "      <th>total_amount</th>\n",
       "      <th>congestion_surcharge</th>\n",
       "      <th>airport_fee</th>\n",
       "    </tr>\n",
       "  </thead>\n",
       "  <tbody>\n",
       "    <tr>\n",
       "      <th>0</th>\n",
       "      <td>1</td>\n",
       "      <td>2021-01-01 00:30:10</td>\n",
       "      <td>2021-01-01 00:36:12</td>\n",
       "      <td>1.0</td>\n",
       "      <td>2.10</td>\n",
       "      <td>1.0</td>\n",
       "      <td>N</td>\n",
       "      <td>142</td>\n",
       "      <td>43</td>\n",
       "      <td>2</td>\n",
       "      <td>8.0</td>\n",
       "      <td>3.0</td>\n",
       "      <td>0.5</td>\n",
       "      <td>0.00</td>\n",
       "      <td>0.0</td>\n",
       "      <td>0.3</td>\n",
       "      <td>11.80</td>\n",
       "      <td>2.5</td>\n",
       "      <td>NaN</td>\n",
       "    </tr>\n",
       "    <tr>\n",
       "      <th>1</th>\n",
       "      <td>1</td>\n",
       "      <td>2021-01-01 00:51:20</td>\n",
       "      <td>2021-01-01 00:52:19</td>\n",
       "      <td>1.0</td>\n",
       "      <td>0.20</td>\n",
       "      <td>1.0</td>\n",
       "      <td>N</td>\n",
       "      <td>238</td>\n",
       "      <td>151</td>\n",
       "      <td>2</td>\n",
       "      <td>3.0</td>\n",
       "      <td>0.5</td>\n",
       "      <td>0.5</td>\n",
       "      <td>0.00</td>\n",
       "      <td>0.0</td>\n",
       "      <td>0.3</td>\n",
       "      <td>4.30</td>\n",
       "      <td>0.0</td>\n",
       "      <td>NaN</td>\n",
       "    </tr>\n",
       "    <tr>\n",
       "      <th>2</th>\n",
       "      <td>1</td>\n",
       "      <td>2021-01-01 00:43:30</td>\n",
       "      <td>2021-01-01 01:11:06</td>\n",
       "      <td>1.0</td>\n",
       "      <td>14.70</td>\n",
       "      <td>1.0</td>\n",
       "      <td>N</td>\n",
       "      <td>132</td>\n",
       "      <td>165</td>\n",
       "      <td>1</td>\n",
       "      <td>42.0</td>\n",
       "      <td>0.5</td>\n",
       "      <td>0.5</td>\n",
       "      <td>8.65</td>\n",
       "      <td>0.0</td>\n",
       "      <td>0.3</td>\n",
       "      <td>51.95</td>\n",
       "      <td>0.0</td>\n",
       "      <td>NaN</td>\n",
       "    </tr>\n",
       "    <tr>\n",
       "      <th>3</th>\n",
       "      <td>1</td>\n",
       "      <td>2021-01-01 00:15:48</td>\n",
       "      <td>2021-01-01 00:31:01</td>\n",
       "      <td>0.0</td>\n",
       "      <td>10.60</td>\n",
       "      <td>1.0</td>\n",
       "      <td>N</td>\n",
       "      <td>138</td>\n",
       "      <td>132</td>\n",
       "      <td>1</td>\n",
       "      <td>29.0</td>\n",
       "      <td>0.5</td>\n",
       "      <td>0.5</td>\n",
       "      <td>6.05</td>\n",
       "      <td>0.0</td>\n",
       "      <td>0.3</td>\n",
       "      <td>36.35</td>\n",
       "      <td>0.0</td>\n",
       "      <td>NaN</td>\n",
       "    </tr>\n",
       "    <tr>\n",
       "      <th>4</th>\n",
       "      <td>2</td>\n",
       "      <td>2021-01-01 00:31:49</td>\n",
       "      <td>2021-01-01 00:48:21</td>\n",
       "      <td>1.0</td>\n",
       "      <td>4.94</td>\n",
       "      <td>1.0</td>\n",
       "      <td>N</td>\n",
       "      <td>68</td>\n",
       "      <td>33</td>\n",
       "      <td>1</td>\n",
       "      <td>16.5</td>\n",
       "      <td>0.5</td>\n",
       "      <td>0.5</td>\n",
       "      <td>4.06</td>\n",
       "      <td>0.0</td>\n",
       "      <td>0.3</td>\n",
       "      <td>24.36</td>\n",
       "      <td>2.5</td>\n",
       "      <td>NaN</td>\n",
       "    </tr>\n",
       "  </tbody>\n",
       "</table>\n",
       "</div>"
      ],
      "text/plain": [
       "   VendorID tpep_pickup_datetime tpep_dropoff_datetime  passenger_count  \\\n",
       "0         1  2021-01-01 00:30:10   2021-01-01 00:36:12              1.0   \n",
       "1         1  2021-01-01 00:51:20   2021-01-01 00:52:19              1.0   \n",
       "2         1  2021-01-01 00:43:30   2021-01-01 01:11:06              1.0   \n",
       "3         1  2021-01-01 00:15:48   2021-01-01 00:31:01              0.0   \n",
       "4         2  2021-01-01 00:31:49   2021-01-01 00:48:21              1.0   \n",
       "\n",
       "   trip_distance  RatecodeID store_and_fwd_flag  PULocationID  DOLocationID  \\\n",
       "0           2.10         1.0                  N           142            43   \n",
       "1           0.20         1.0                  N           238           151   \n",
       "2          14.70         1.0                  N           132           165   \n",
       "3          10.60         1.0                  N           138           132   \n",
       "4           4.94         1.0                  N            68            33   \n",
       "\n",
       "   payment_type  fare_amount  extra  mta_tax  tip_amount  tolls_amount  \\\n",
       "0             2          8.0    3.0      0.5        0.00           0.0   \n",
       "1             2          3.0    0.5      0.5        0.00           0.0   \n",
       "2             1         42.0    0.5      0.5        8.65           0.0   \n",
       "3             1         29.0    0.5      0.5        6.05           0.0   \n",
       "4             1         16.5    0.5      0.5        4.06           0.0   \n",
       "\n",
       "   improvement_surcharge  total_amount  congestion_surcharge  airport_fee  \n",
       "0                    0.3         11.80                   2.5          NaN  \n",
       "1                    0.3          4.30                   0.0          NaN  \n",
       "2                    0.3         51.95                   0.0          NaN  \n",
       "3                    0.3         36.35                   0.0          NaN  \n",
       "4                    0.3         24.36                   2.5          NaN  "
      ]
     },
     "execution_count": 3,
     "metadata": {},
     "output_type": "execute_result"
    }
   ],
   "source": [
    "start = time.time()\n",
    "pdf = pd.read_parquet('yellow_tripdata_2021-01.parquet')\n",
    "end = time.time()\n",
    "pandas_load_time = end - start\n",
    "print(f\"Pandas load time: {pandas_load_time:.2f} seconds\")\n",
    "pdf.head()"
   ]
  },
  {
   "cell_type": "markdown",
   "id": "d583ab85",
   "metadata": {},
   "source": [
    "Pandas now has all data in `pdf`. For very large datasets, this could be many gigabytes of memory.\n",
    "\n",
    "## Loading Data with Ibis\n",
    "Ibis lets us connect to a DuckDB backend and reference the Parquet file without fully loading it:\n",
    "- Pros: Quick to set up references, deferred computation.\n",
    "- Cons: Slightly more complex queries, might not be as straightforward as Pandas for small data.\n",
    "\n",
    "We measure the time to register the Parquet file with Ibis."
   ]
  },
  {
   "cell_type": "code",
   "execution_count": 4,
   "id": "0349145f",
   "metadata": {},
   "outputs": [
    {
     "name": "stdout",
     "output_type": "stream",
     "text": [
      "Ibis (DuckDB) load time (registration only): 0.04 seconds\n"
     ]
    },
    {
     "data": {
      "text/html": [
       "<pre style=\"white-space:pre;overflow-x:auto;line-height:normal;font-family:Menlo,'DejaVu Sans Mono',consolas,'Courier New',monospace\">DatabaseTable: trips\n",
       "  VendorID              int64\n",
       "  tpep_pickup_datetime  timestamp(6)\n",
       "  tpep_dropoff_datetime timestamp(6)\n",
       "  passenger_count       float64\n",
       "  trip_distance         float64\n",
       "  RatecodeID            float64\n",
       "  store_and_fwd_flag    string\n",
       "  PULocationID          int64\n",
       "  DOLocationID          int64\n",
       "  payment_type          int64\n",
       "  fare_amount           float64\n",
       "  extra                 float64\n",
       "  mta_tax               float64\n",
       "  tip_amount            float64\n",
       "  tolls_amount          float64\n",
       "  improvement_surcharge float64\n",
       "  total_amount          float64\n",
       "  congestion_surcharge  float64\n",
       "  airport_fee           float64\n",
       "</pre>\n"
      ],
      "text/plain": [
       "DatabaseTable: trips\n",
       "  VendorID              int64\n",
       "  tpep_pickup_datetime  timestamp(6)\n",
       "  tpep_dropoff_datetime timestamp(6)\n",
       "  passenger_count       float64\n",
       "  trip_distance         float64\n",
       "  RatecodeID            float64\n",
       "  store_and_fwd_flag    string\n",
       "  PULocationID          int64\n",
       "  DOLocationID          int64\n",
       "  payment_type          int64\n",
       "  fare_amount           float64\n",
       "  extra                 float64\n",
       "  mta_tax               float64\n",
       "  tip_amount            float64\n",
       "  tolls_amount          float64\n",
       "  improvement_surcharge float64\n",
       "  total_amount          float64\n",
       "  congestion_surcharge  float64\n",
       "  airport_fee           float64"
      ]
     },
     "execution_count": 4,
     "metadata": {},
     "output_type": "execute_result"
    }
   ],
   "source": [
    "con = ibis.duckdb.connect(':memory:')\n",
    "start = time.time()\n",
    "trips = con.read_parquet('yellow_tripdata_2021-01.parquet', table_name='trips')\n",
    "end = time.time()\n",
    "ibis_load_time = end - start\n",
    "print(f\"Ibis (DuckDB) load time (registration only): {ibis_load_time:.2f} seconds\")\n",
    "trips"
   ]
  },
  {
   "cell_type": "markdown",
   "id": "ffd18c45",
   "metadata": {},
   "source": [
    "**Note:** The Ibis load step doesn't load all data into memory. It just sets up a reference in DuckDB. The real data loading and processing happen when we run `.execute()` on queries.\n",
    "\n",
    "## Querying Data\n",
    "Let's run a simple aggregation query using both Pandas and Ibis:\n",
    "- Compute the mean fare.\n",
    "\n",
    "This will show how long it takes in each framework."
   ]
  },
  {
   "cell_type": "code",
   "execution_count": 5,
   "id": "24f01dfb",
   "metadata": {},
   "outputs": [
    {
     "name": "stdout",
     "output_type": "stream",
     "text": [
      "Ibis avg fare query time: 0.0934s, Avg fare: 12.10\n",
      "Pandas avg fare query time: 0.0090s, Avg fare: 12.10\n"
     ]
    }
   ],
   "source": [
    "# Ibis query: mean fare\n",
    "start = time.time()\n",
    "avg_fare_ibis = trips.fare_amount.mean().execute()\n",
    "end = time.time()\n",
    "ibis_query_time = end - start\n",
    "print(f\"Ibis avg fare query time: {ibis_query_time:.4f}s, Avg fare: {avg_fare_ibis:.2f}\")\n",
    "\n",
    "# Pandas query: mean fare\n",
    "start = time.time()\n",
    "avg_fare_pd = pdf['fare_amount'].mean()\n",
    "end = time.time()\n",
    "pandas_query_time = end - start\n",
    "print(f\"Pandas avg fare query time: {pandas_query_time:.4f}s, Avg fare: {avg_fare_pd:.2f}\")"
   ]
  },
  {
   "cell_type": "markdown",
   "id": "f1a55e19",
   "metadata": {},
   "source": [
    "For large, complex queries (e.g., joins, multiple aggregates), Ibis+DuckDB can shine by pushing computation down into DuckDB. Pandas would require loading all data into memory first.\n",
    "\n",
    "### Visual Comparison of Load and Query Times\n",
    "Let's plot load times and query times side by side to visually compare.\n"
   ]
  },
  {
   "cell_type": "code",
   "execution_count": 6,
   "id": "78eac454",
   "metadata": {},
   "outputs": [
    {
     "data": {
      "image/png": "[encoded data removed]",
      "text/plain": [
       "<Figure size 1000x500 with 1 Axes>"
      ]
     },
     "metadata": {},
     "output_type": "display_data"
    }
   ],
   "source": [
    "methods = ['Pandas Load', 'Ibis Register', 'Pandas Query (mean)', 'Ibis Query (mean)']\n",
    "times = [pandas_load_time, ibis_load_time, pandas_query_time, ibis_query_time]\n",
    "\n",
    "plt.figure(figsize=(10,5))\n",
    "plt.bar(methods, times, color=['blue','green','blue','green'])\n",
    "plt.title('Comparison of Load and Query Times')\n",
    "plt.ylabel('Time (seconds)')\n",
    "for i, t in enumerate(times):\n",
    "    plt.text(i, t+0.001, f\"{t:.4f}\", ha='center', va='bottom')\n",
    "plt.show()"
   ]
  },
  {
   "cell_type": "markdown",
   "id": "af3cf223",
   "metadata": {},
   "source": [
    "From this comparison:\n",
    "- Pandas load might be slower because it actually loads data.\n",
    "- Ibis registration is fast but doesn't mean the data is fully read yet.\n",
    "- Query times vary; for a mean aggregation, both might be fast, but Ibis can excel on more complex queries.\n",
    "\n",
    "## Data Preparation for Classification\n",
    "We now define our classification label and filter data. Steps:\n",
    "1. Filter out unrealistic trips (non-positive distance or fare).\n",
    "2. Create `tip_label` (1 if tip_amount > 0 else 0).\n",
    "3. Extract `pickup_hour` from `tpep_pickup_datetime`.\n",
    "\n",
    "We'll use Ibis for these transformations and then `execute()` to bring a sample into memory."
   ]
  },
  {
   "cell_type": "code",
   "execution_count": 7,
   "id": "b043c290",
   "metadata": {},
   "outputs": [],
   "source": [
    "prep = trips.filter([\n",
    "    trips.trip_distance > 0,\n",
    "    trips.fare_amount > 0\n",
    "]).mutate(\n",
    "    tip_label=(trips.tip_amount > 0).cast('int32'),\n",
    "    pickup_hour=trips.tpep_pickup_datetime.hour()\n",
    ")"
   ]
  },
  {
   "cell_type": "markdown",
   "id": "c1dd5c3d",
   "metadata": {},
   "source": [
    "We have a very large dataset. We'll sample a subset (e.g., 500k rows) to speed up training and experimentation.\n",
    "In a real scenario, you can use more rows if you have the compute resources."
   ]
  },
  {
   "cell_type": "code",
   "execution_count": 8,
   "id": "76319174",
   "metadata": {},
   "outputs": [
    {
     "name": "stdout",
     "output_type": "stream",
     "text": [
      "Fetched sample of 500000 rows in 0.33 seconds\n"
     ]
    },
    {
     "data": {
      "text/html": [
       "<div>\n",
       "<style scoped>\n",
       "    .dataframe tbody tr th:only-of-type {\n",
       "        vertical-align: middle;\n",
       "    }\n",
       "\n",
       "    .dataframe tbody tr th {\n",
       "        vertical-align: top;\n",
       "    }\n",
       "\n",
       "    .dataframe thead th {\n",
       "        text-align: right;\n",
       "    }\n",
       "</style>\n",
       "<table border=\"1\" class=\"dataframe\">\n",
       "  <thead>\n",
       "    <tr style=\"text-align: right;\">\n",
       "      <th></th>\n",
       "      <th>tip_label</th>\n",
       "      <th>trip_distance</th>\n",
       "      <th>fare_amount</th>\n",
       "      <th>passenger_count</th>\n",
       "      <th>pickup_hour</th>\n",
       "    </tr>\n",
       "  </thead>\n",
       "  <tbody>\n",
       "    <tr>\n",
       "      <th>0</th>\n",
       "      <td>0</td>\n",
       "      <td>2.10</td>\n",
       "      <td>8.0</td>\n",
       "      <td>1.0</td>\n",
       "      <td>0</td>\n",
       "    </tr>\n",
       "    <tr>\n",
       "      <th>1</th>\n",
       "      <td>0</td>\n",
       "      <td>0.20</td>\n",
       "      <td>3.0</td>\n",
       "      <td>1.0</td>\n",
       "      <td>0</td>\n",
       "    </tr>\n",
       "    <tr>\n",
       "      <th>2</th>\n",
       "      <td>1</td>\n",
       "      <td>14.70</td>\n",
       "      <td>42.0</td>\n",
       "      <td>1.0</td>\n",
       "      <td>0</td>\n",
       "    </tr>\n",
       "    <tr>\n",
       "      <th>3</th>\n",
       "      <td>1</td>\n",
       "      <td>10.60</td>\n",
       "      <td>29.0</td>\n",
       "      <td>0.0</td>\n",
       "      <td>0</td>\n",
       "    </tr>\n",
       "    <tr>\n",
       "      <th>4</th>\n",
       "      <td>1</td>\n",
       "      <td>4.94</td>\n",
       "      <td>16.5</td>\n",
       "      <td>1.0</td>\n",
       "      <td>0</td>\n",
       "    </tr>\n",
       "  </tbody>\n",
       "</table>\n",
       "</div>"
      ],
      "text/plain": [
       "   tip_label  trip_distance  fare_amount  passenger_count  pickup_hour\n",
       "0          0           2.10          8.0              1.0            0\n",
       "1          0           0.20          3.0              1.0            0\n",
       "2          1          14.70         42.0              1.0            0\n",
       "3          1          10.60         29.0              0.0            0\n",
       "4          1           4.94         16.5              1.0            0"
      ]
     },
     "execution_count": 8,
     "metadata": {},
     "output_type": "execute_result"
    }
   ],
   "source": [
    "sample_size = 500_000\n",
    "start = time.time()\n",
    "model_df = prep[['tip_label', 'trip_distance', 'fare_amount', 'passenger_count', 'pickup_hour']].limit(sample_size).execute()\n",
    "end = time.time()\n",
    "print(f\"Fetched sample of {sample_size} rows in {end - start:.2f} seconds\")\n",
    "model_df.head()"
   ]
  },
  {
   "cell_type": "markdown",
   "id": "eecbf9df",
   "metadata": {},
   "source": [
    "Check the distribution of our target label (`tip_label`):"
   ]
  },
  {
   "cell_type": "code",
   "execution_count": 9,
   "id": "d8109faf",
   "metadata": {},
   "outputs": [
    {
     "data": {
      "image/png": "[encoded data removed]",
      "text/plain": [
       "<Figure size 640x480 with 1 Axes>"
      ]
     },
     "metadata": {},
     "output_type": "display_data"
    }
   ],
   "source": [
    "model_df['tip_label'].value_counts().plot(kind='bar', color=['red','green'])\n",
    "plt.title('Tip Label Distribution (0=No Tip, 1=Tip)')\n",
    "plt.xlabel('Tip Label')\n",
    "plt.ylabel('Count')\n",
    "plt.show()"
   ]
  },
  {
   "cell_type": "markdown",
   "id": "b4d12350",
   "metadata": {},
   "source": [
    "We have a large sample. The classes might be imbalanced. Now, let's split into train/test sets."
   ]
  },
  {
   "cell_type": "code",
   "execution_count": 10,
   "id": "161eb6e0",
   "metadata": {},
   "outputs": [],
   "source": [
    "X = model_df[['trip_distance', 'fare_amount', 'passenger_count', 'pickup_hour']].to_numpy()\n",
    "y = model_df['tip_label'].to_numpy()\n",
    "\n",
    "X_train, X_test, y_train, y_test = train_test_split(X, y, test_size=0.3, random_state=26)"
   ]
  },
  {
   "cell_type": "markdown",
   "id": "2cce30d8",
   "metadata": {},
   "source": [
    "## Baseline Model with Scikit-learn\n",
    "We start with a **Logistic Regression** from scikit-learn:\n",
    "- Pros: Easy, well-optimized, a good baseline.\n",
    "- Cons: Less flexible than a custom JAX model.\n"
   ]
  },
  {
   "cell_type": "code",
   "execution_count": 11,
   "id": "0159da2c",
   "metadata": {},
   "outputs": [
    {
     "name": "stdout",
     "output_type": "stream",
     "text": [
      "Scikit-learn Logistic Regression:\n",
      "Accuracy: 0.70016\n",
      "F1-Score: 0.8236359786368022\n"
     ]
    }
   ],
   "source": [
    "clf = LogisticRegression(max_iter=1000)\n",
    "clf.fit(X_train, y_train)\n",
    "y_pred_sklearn = clf.predict(X_test)\n",
    "acc_sklearn = accuracy_score(y_test, y_pred_sklearn)\n",
    "f1_sklearn = f1_score(y_test, y_pred_sklearn)\n",
    "\n",
    "print(\"Scikit-learn Logistic Regression:\")\n",
    "print(\"Accuracy:\", acc_sklearn)\n",
    "print(\"F1-Score:\", f1_sklearn)"
   ]
  },
  {
   "cell_type": "markdown",
   "id": "96d69805",
   "metadata": {},
   "source": [
    "Confusion matrix to understand predictions more deeply:"
   ]
  },
  {
   "cell_type": "code",
   "execution_count": 12,
   "id": "3dd524a0",
   "metadata": {},
   "outputs": [
    {
     "data": {
      "image/png": "[encoded data removed]",
      "text/plain": [
       "<Figure size 640x480 with 2 Axes>"
      ]
     },
     "metadata": {},
     "output_type": "display_data"
    }
   ],
   "source": [
    "cm = confusion_matrix(y_test, y_pred_sklearn)\n",
    "disp = ConfusionMatrixDisplay(cm, display_labels=[\"No Tip\", \"Tip\"])\n",
    "disp.plot(cmap='Blues')\n",
    "plt.title('Scikit-Learn Logistic Regression Confusion Matrix')\n",
    "plt.show()"
   ]
  },
  {
   "cell_type": "markdown",
   "id": "58dbbf9c-814c-4ef5-b4d6-ad1c2b36e20d",
   "metadata": {},
   "source": [
    "## Understanding JAX\n",
    "\n",
    "### What is JAX?\n",
    "\n",
    "[JAX](https://github.com/google/jax) is a high-performance numerical computing library for Python developed by Google. It extends NumPy with features like automatic differentiation, just-in-time (JIT) compilation, and vectorization, making it a versatile tool for machine learning research and scientific computing.\n",
    "\n",
    "### Key Features of JAX\n",
    "\n",
    "- **Automatic Differentiation (Autograd):** JAX can automatically compute gradients of functions, essential for training machine learning models.\n",
    "- **JIT Compilation:** Using XLA, JAX can compile and optimize your Python functions, resulting in significant speedups.\n",
    "- **Vectorization:** The `vmap` function enables batch processing without explicit loops.\n",
    "- **GPU/TPU Support:** JAX runs seamlessly on GPUs and TPUs.\n",
    "- **Functional Programming Paradigm:** Encourages functional, immutable code for more predictable and debuggable workflows.\n",
    "\n",
    "### How to Set Up JAX\n",
    "\n",
    "1. **Installation:**\n",
    "```bash\n",
    "pip install --upgrade pip\n",
    "pip install jax jaxlib  # For CPU\n",
    "```\n",
    "\n",
    "For GPU support, refer to JAX's installation instructions.\n",
    "\n",
    "### Basic Usage\n",
    "\n",
    "```python\n",
    "import jax\n",
    "import jax.numpy as jnp\n",
    "\n",
    "# Define a simple function\n",
    "def f(x):\n",
    "    return x**2 + 2*x + 1\n",
    "\n",
    "# Compute gradient\n",
    "grad_f = jax.grad(f)\n",
    "print(grad_f(3.0))  # Output: 8.0\n",
    "```\n",
    "\n",
    "### Common JAX Functions and Syntax\n",
    "- `jax.numpy (jnp)`: NumPy-compatible API.\n",
    "- `jax.grad(fun)`: Computes gradient of `fun`.\n",
    "- `jax.jit(fun)`: Compiles `fun` for faster execution.\n",
    "- `jax.vmap(fun)`: Vectorizes `fun`.\n",
    "- `optax`: A separate library providing optimizers and gradient processing.\n",
    "\n",
    "### JAX vs. Traditional Libraries\n",
    "\n",
    "| Aspect            | JAX                                      | Traditional (e.g., NumPy, scikit-learn) |\n",
    "|-------------------|-------------------------------------------|-----------------------------------------|\n",
    "| Differentiation   | Automatic differentiation built-in         | Manual or limited                       |\n",
    "| Compilation       | JIT compilation with XLA                  | No compilation                          |\n",
    "| Vectorization     | Automatic with `vmap`                     | Manual vectorization                    |\n",
    "| Flexibility       | Highly flexible custom models             | Predefined models/APIs                  |\n",
    "| Performance       | Optimized for accelerators and large data | Depends on library/implementation        |\n",
    "| Programming Style | Functional, immutable                     | Procedural, mutable                     |\n",
    "\n",
    "### When to Use JAX\n",
    "- **Research and Custom Models:** For custom machine learning models.\n",
    "- **Performance-Critical Apps:** Leveraging JIT and hardware acceleration.\n",
    "- **Automatic Differentiation:** Simplifying gradient computations.\n",
    "\n",
    "### Example Workflow with JAX\n",
    "\n",
    "**Define a Function and Compute Gradient:**\n",
    "```python\n",
    "import jax.numpy as jnp\n",
    "from jax import grad\n",
    "\n",
    "def quadratic(x):\n",
    "    return jnp.dot(x, x)\n",
    "\n",
    "grad_quadratic = grad(quadratic)\n",
    "x = jnp.array([1.0, 2.0, 3.0])\n",
    "print(grad_quadratic(x))  # Output: [2.0, 4.0, 6.0]\n",
    "```\n",
    "\n",
    "**JIT Compilation:**\n",
    "```python\n",
    "from jax import jit\n",
    "\n",
    "@jit\n",
    "def compute_sum(x):\n",
    "    return jnp.sum(x)\n",
    "\n",
    "x = jnp.ones(1000000)\n",
    "print(compute_sum(x))  # Fast due to JIT compilation\n",
    "```\n",
    "\n",
    "**Vectorization with `vmap`:**\n",
    "```python\n",
    "from jax import vmap\n",
    "\n",
    "def add_one(x):\n",
    "    return x + 1\n",
    "\n",
    "add_one_vectorized = vmap(add_one)\n",
    "x = jnp.array([1, 2, 3, 4, 5])\n",
    "print(add_one_vectorized(x))  # [2, 3, 4, 5, 6]\n",
    "```\n",
    "\n",
    "### JAX in Machine Learning\n",
    "\n",
    "JAX is powerful for building and training models from scratch, offering flexibility and performance advantages over traditional libraries.\n",
    "\n",
    "**Example: Logistic Regression in JAX**\n",
    "```python\n",
    "import jax.numpy as jnp\n",
    "from jax import grad\n",
    "\n",
    "def sigmoid(z):\n",
    "    return 1 / (1 + jnp.exp(-z))\n",
    "\n",
    "def predict(params, X):\n",
    "    w, b = params\n",
    "    return sigmoid(jnp.dot(X, w) + b)\n",
    "\n",
    "def loss_fn(params, X, y):\n",
    "    predictions = predict(params, X)\n",
    "    return -jnp.mean(y * jnp.log(predictions) + (1 - y) * jnp.log(1 - predictions))\n",
    "\n",
    "# Initialize parameters\n",
    "w = jnp.zeros((10,))  # Example feature dimension\n",
    "b = 0.0\n",
    "params = (w, b)\n",
    "\n",
    "gradients = grad(loss_fn)(params, jnp.ones((1,10)), jnp.array([1]))\n",
    "\n",
    "# Update parameters (as an example)\n",
    "learning_rate = 0.01\n",
    "w = w - learning_rate * gradients[0]\n",
    "b = b - learning_rate * gradients[1]\n",
    "params = (w, b)\n",
    "```\n",
    "\n",
    "### Conclusion\n",
    "JAX stands out for performance, flexibility, and ease of applying automatic differentiation. Although it may have a steeper learning curve than some traditional libraries, the advantages in performance and scalability make it a strong choice for advanced research and large-scale machine learning applications."
   ]
  },
  {
   "cell_type": "markdown",
   "id": "cc97b0a2",
   "metadata": {},
   "source": [
    "## Introducing JAX for ML Models\n",
    "JAX provides:\n",
    "- Automatic differentiation: We write a loss function, JAX can compute gradients for us.\n",
    "- XLA compilation: Potentially faster execution.\n",
    "- Full control: We can implement any model, from linear to neural networks, without being restricted to standard estimators.\n",
    "\n",
    "We will implement:\n",
    "1. **Logistic Regression in JAX**: Similar to scikit-learn model but fully custom.\n",
    "2. **A Simple Neural Network in JAX**: A small MLP (Multi-Layer Perceptron) classifier to see if a non-linear model improves performance.\n"
   ]
  },
  {
   "cell_type": "markdown",
   "id": "1d9ffd23",
   "metadata": {},
   "source": [
    "### JAX Setup\n",
    "Convert data to JAX arrays and define helper functions.\n",
    "\n",
    "**Note:** We’ll use optax for optimizers, and just-in-time (jit) compilation for speed.\n"
   ]
  },
  {
   "cell_type": "code",
   "execution_count": 13,
   "id": "15af11f8",
   "metadata": {},
   "outputs": [],
   "source": [
    "X_train_j = jnp.array(X_train)\n",
    "y_train_j = jnp.array(y_train)\n",
    "X_test_j = jnp.array(X_test)\n",
    "y_test_j = jnp.array(y_test)"
   ]
  },
  {
   "cell_type": "markdown",
   "id": "aef8ae37",
   "metadata": {},
   "source": [
    "### JAX Logistic Regression\n",
    "**Model:**\n",
    "p = sigmoid(Xw + b)\n",
    "Loss: Binary cross-entropy\n",
    "\n",
    "We’ll add L1 regularization for controlling complexity.\n",
    "\n",
    "**Steps:**\n",
    "1. Initialize parameters (small random values).\n",
    "2. Define `predict_jax` and `loss_fn`.\n",
    "3. Use optax's Adam optimizer.\n",
    "4. Train for a number of epochs.\n",
    "5. Evaluate the model.\n"
   ]
  },
  {
   "cell_type": "code",
   "execution_count": 15,
   "id": "f00defea",
   "metadata": {},
   "outputs": [
    {
     "name": "stdout",
     "output_type": "stream",
     "text": [
      "JAX Logistic Regression Epoch 0: Loss=0.6618\n",
      "JAX Logistic Regression Epoch 100: Loss=0.6147\n",
      "JAX Logistic Regression Epoch 200: Loss=0.6135\n",
      "JAX Logistic Regression Training Complete.\n"
     ]
    }
   ],
   "source": [
    "import optax\n",
    "\n",
    "def sigmoid(z):\n",
    "    return 1/(1+jnp.exp(-z))\n",
    "\n",
    "def predict_jax(params, X):\n",
    "    w, b = params\n",
    "    return sigmoid(jnp.dot(X, w) + b)\n",
    "\n",
    "def loss_fn(params, X, y, l1_reg=1e-4):\n",
    "    w, b = params\n",
    "    p = predict_jax(params, X)\n",
    "    eps = 1e-8\n",
    "    # Binary cross-entropy loss\n",
    "    loss = -jnp.mean(y*jnp.log(p+eps) + (1-y)*jnp.log(1-p+eps))\n",
    "    # L1 regularization to encourage sparsity\n",
    "    l1_penalty = l1_reg * jnp.sum(jnp.abs(w))\n",
    "    return loss + l1_penalty\n",
    "\n",
    "# Parameter initialization\n",
    "key = jax.random.PRNGKey(16)\n",
    "w_init = jax.random.normal(key, shape=(X_train_j.shape[1],)) * 0.01\n",
    "b_init = 0.0\n",
    "params = (w_init, b_init)\n",
    "\n",
    "# Optimizer\n",
    "learning_rate = 0.01\n",
    "optimizer = optax.adam(learning_rate)\n",
    "opt_state = optimizer.init(params)\n",
    "\n",
    "@jax.jit\n",
    "def train_step(params, opt_state, X, y):\n",
    "    grads = jax.grad(loss_fn)(params, X, y)\n",
    "    updates, opt_state = optimizer.update(grads, opt_state)\n",
    "    new_params = optax.apply_updates(params, updates)\n",
    "    loss = loss_fn(new_params, X, y)\n",
    "    return new_params, opt_state, loss\n",
    "\n",
    "# Training loop\n",
    "epochs = 300\n",
    "for epoch in range(epochs):\n",
    "    params, opt_state, loss = train_step(params, opt_state, X_train_j, y_train_j)\n",
    "    if epoch % 100 == 0:\n",
    "        print(f\"JAX Logistic Regression Epoch {epoch}: Loss={loss:.4f}\")\n",
    "\n",
    "w_final, b_final = params\n",
    "print(\"JAX Logistic Regression Training Complete.\")"
   ]
  },
  {
   "cell_type": "markdown",
   "id": "599127f9",
   "metadata": {},
   "source": [
    "Evaluate JAX logistic regression model on test set:"
   ]
  },
  {
   "cell_type": "code",
   "execution_count": 16,
   "id": "d0b222b8",
   "metadata": {},
   "outputs": [
    {
     "name": "stdout",
     "output_type": "stream",
     "text": [
      "JAX Logistic Regression:\n",
      "Accuracy: 0.7001733333333333\n",
      "F1-Score: 0.8236452042977022\n"
     ]
    },
    {
     "data": {
      "image/png": "[encoded data removed]",
      "text/plain": [
       "<Figure size 640x480 with 2 Axes>"
      ]
     },
     "metadata": {},
     "output_type": "display_data"
    }
   ],
   "source": [
    "p_test = predict_jax(params, X_test_j)\n",
    "y_pred_jax_logreg = (p_test > 0.5).astype(int)\n",
    "\n",
    "acc_jax_logreg = accuracy_score(y_test, np.array(y_pred_jax_logreg))\n",
    "f1_jax_logreg = f1_score(y_test, np.array(y_pred_jax_logreg))\n",
    "\n",
    "print(\"JAX Logistic Regression:\")\n",
    "print(\"Accuracy:\", acc_jax_logreg)\n",
    "print(\"F1-Score:\", f1_jax_logreg)\n",
    "\n",
    "cm_jax_logreg = confusion_matrix(y_test, np.array(y_pred_jax_logreg))\n",
    "disp = ConfusionMatrixDisplay(cm_jax_logreg, display_labels=[\"No Tip\", \"Tip\"])\n",
    "disp.plot(cmap='Blues')\n",
    "plt.title('JAX Logistic Regression Confusion Matrix')\n",
    "plt.show()"
   ]
  },
  {
   "cell_type": "markdown",
   "id": "b2b451a5",
   "metadata": {},
   "source": [
    "## JAX Neural Network Classifier\n",
    "Let's try a simple 2-layer MLP (Multi-Layer Perceptron):\n",
    "```\n",
    "Input -> Dense Layer (e.g. 16 units, ReLU) -> Dense Layer (1 unit, sigmoid)\n",
    "```\n",
    "\n",
    "Why a neural network?\n",
    "- Non-linear model might capture more complex relationships.\n",
    "- Demonstrates how JAX can build more complex models than logistic regression.\n",
    "\n",
    "### Model Definition Steps:\n",
    "1. Initialize parameters for each layer (weights and biases).\n",
    "2. Define a forward pass function.\n",
    "3. Use the same binary cross-entropy loss.\n",
    "\n",
    "We’ll keep it small and simple."
   ]
  },
  {
   "cell_type": "code",
   "execution_count": 17,
   "id": "ccd7dd92",
   "metadata": {},
   "outputs": [],
   "source": [
    "def init_mlp_params(key, input_dim, hidden_dim=50):\n",
    "    key1, key2 = jax.random.split(key)\n",
    "    W1 = jax.random.normal(key1, shape=(input_dim, hidden_dim))*0.01\n",
    "    b1 = jnp.zeros(hidden_dim)\n",
    "    W2 = jax.random.normal(key2, shape=(hidden_dim, 1))*0.01\n",
    "    b2 = jnp.zeros(1)\n",
    "    return (W1, b1, W2, b2)\n",
    "\n",
    "def mlp_forward(params, X):\n",
    "    W1, b1, W2, b2 = params\n",
    "    hidden = jnp.maximum(0, jnp.dot(X, W1) + b1)  # ReLU\n",
    "    logits = jnp.dot(hidden, W2) + b2\n",
    "    return sigmoid(logits).reshape(-1)\n",
    "\n",
    "def mlp_loss_fn(params, X, y):\n",
    "    p = mlp_forward(params, X)\n",
    "    eps = 1e-8\n",
    "    loss = -jnp.mean(y*jnp.log(p+eps) + (1-y)*jnp.log(1-p+eps))\n",
    "    return loss\n"
   ]
  },
  {
   "cell_type": "markdown",
   "id": "c7829ceb",
   "metadata": {},
   "source": [
    "Initialize MLP parameters and optimizer:"
   ]
  },
  {
   "cell_type": "code",
   "execution_count": 19,
   "id": "d8eddc21",
   "metadata": {},
   "outputs": [
    {
     "name": "stdout",
     "output_type": "stream",
     "text": [
      "JAX MLP Epoch 0: Loss=0.6900\n",
      "JAX MLP Epoch 200: Loss=0.6116\n",
      "JAX MLP Epoch 400: Loss=0.6093\n"
     ]
    }
   ],
   "source": [
    "\n",
    "mlp_key = jax.random.PRNGKey(2)\n",
    "mlp_params = init_mlp_params(mlp_key, X_train_j.shape[1])\n",
    "mlp_optimizer = optax.adam(0.001)\n",
    "mlp_opt_state = mlp_optimizer.init(mlp_params)\n",
    "\n",
    "@jax.jit\n",
    "def mlp_train_step(params, opt_state, X, y):\n",
    "    grads = jax.grad(mlp_loss_fn)(params, X, y)\n",
    "    updates, opt_state = mlp_optimizer.update(grads, opt_state)\n",
    "    new_params = optax.apply_updates(params, updates)\n",
    "    loss = mlp_loss_fn(new_params, X, y)\n",
    "    return new_params, opt_state, loss\n",
    "\n",
    "mlp_epochs = 600  # more epochs\n",
    "for epoch in range(mlp_epochs):\n",
    "    mlp_params, mlp_opt_state, mlp_loss = mlp_train_step(mlp_params, mlp_opt_state, X_train_j, y_train_j)\n",
    "    if epoch % 200 == 0:\n",
    "        print(f\"JAX MLP Epoch {epoch}: Loss={mlp_loss:.4f}\")"
   ]
  },
  {
   "cell_type": "markdown",
   "id": "7c587381",
   "metadata": {},
   "source": [
    "Evaluate MLP on test data:"
   ]
  },
  {
   "cell_type": "code",
   "execution_count": 20,
   "id": "bed8262b",
   "metadata": {},
   "outputs": [
    {
     "name": "stdout",
     "output_type": "stream",
     "text": [
      "JAX MLP:\n",
      "Accuracy: 0.7004066666666666\n",
      "F1-Score: 0.8236559055396194\n"
     ]
    },
    {
     "data": {
      "image/png": "[encoded data removed]",
      "text/plain": [
       "<Figure size 640x480 with 2 Axes>"
      ]
     },
     "metadata": {},
     "output_type": "display_data"
    }
   ],
   "source": [
    "p_test_mlp = mlp_forward(mlp_params, X_test_j)\n",
    "y_pred_mlp = (p_test_mlp > 0.5).astype(int)\n",
    "\n",
    "acc_mlp = accuracy_score(y_test, np.array(y_pred_mlp))\n",
    "f1_mlp = f1_score(y_test, np.array(y_pred_mlp))\n",
    "\n",
    "print(\"JAX MLP:\")\n",
    "print(\"Accuracy:\", acc_mlp)\n",
    "print(\"F1-Score:\", f1_mlp)\n",
    "\n",
    "cm_mlp = confusion_matrix(y_test, np.array(y_pred_mlp))\n",
    "disp = ConfusionMatrixDisplay(cm_mlp, display_labels=[\"No Tip\", \"Tip\"])\n",
    "disp.plot(cmap='Blues')\n",
    "plt.title('JAX MLP Confusion Matrix')\n",
    "plt.show()"
   ]
  },
  {
   "cell_type": "markdown",
   "id": "0a5009cf",
   "metadata": {},
   "source": [
    "## Comparison of All Models\n",
    "We now have three models:\n",
    "1. Scikit-Learn Logistic Regression (Baseline)\n",
    "2. JAX Logistic Regression\n",
    "3. JAX MLP\n",
    "\n",
    "Let's put their accuracy and F1-scores side by side in a plot."
   ]
  },
  {
   "cell_type": "code",
   "execution_count": 21,
   "id": "de24dafd",
   "metadata": {},
   "outputs": [
    {
     "data": {
      "image/png": "[encoded data removed]",
      "text/plain": [
       "<Figure size 1000x500 with 1 Axes>"
      ]
     },
     "metadata": {},
     "output_type": "display_data"
    }
   ],
   "source": [
    "models = ['Sklearn Logistic', 'JAX Logistic', 'JAX MLP']\n",
    "accs = [acc_sklearn, acc_jax_logreg, acc_mlp]\n",
    "f1s = [f1_sklearn, f1_jax_logreg, f1_mlp]\n",
    "\n",
    "x = np.arange(len(models))\n",
    "width = 0.35\n",
    "\n",
    "plt.figure(figsize=(10,5))\n",
    "plt.bar(x - width/2, accs, width, label='Accuracy', color='cyan')\n",
    "plt.bar(x + width/2, f1s, width, label='F1-Score', color='magenta')\n",
    "plt.xticks(x, models)\n",
    "plt.title('Model Performance Comparison')\n",
    "plt.ylabel('Score')\n",
    "plt.ylim([0,1])\n",
    "for i, v in enumerate(accs):\n",
    "    plt.text(i - width/2, v+0.01, f\"{v:.3f}\", ha='center', va='bottom')\n",
    "for i, v in enumerate(f1s):\n",
    "    plt.text(i + width/2, v+0.01, f\"{v:.3f}\", ha='center', va='bottom')\n",
    "plt.legend()\n",
    "plt.show()"
   ]
  },
  {
   "cell_type": "markdown",
   "id": "62a5da03",
   "metadata": {},
   "source": [
    "## Discussion and Conclusions\n",
    "\n",
    "### Ibis vs Pandas:\n",
    "- **Pandas**: Loads data eagerly, easy to use for small to medium datasets. Once loaded, operations are fast but memory-hungry.\n",
    "- **Ibis (with DuckDB)**: More scalable, can push complex queries down to DuckDB. Suitable for large datasets where you don't want to load everything at once. It can be more complex but is powerful for big data.\n",
    "\n",
    "The visual comparisons and timing measurements show that Ibis can register and query data efficiently. Pandas is straightforward but might struggle with memory if the dataset grows very large.\n",
    "\n",
    "### Models:\n",
    "We tested three models:\n",
    "1. **Scikit-learn Logistic Regression**: Strong baseline, easy to implement.\n",
    "2. **JAX Logistic Regression**: Shows how we can replicate the baseline model in JAX with full control and add custom regularization.\n",
    "3. **JAX MLP (Neural Network)**: Introduces non-linearity and can potentially capture more complex patterns.\n",
    "\n",
    "In practice, the performance differences might be small if the data doesn't require complex boundaries. However, the MLP may improve slightly with tuning (more layers, different learning rates, more epochs).\n",
    "\n",
    "### Understanding JAX:\n",
    "- JAX allows automatic differentiation, so we don't write gradient formulas by hand.\n",
    "- Using `optax` and `jax.jit` can speed up training loops.\n",
    "- We have flexibility: we can implement any model (logistic regression, neural networks, etc.).\n",
    "\n",
    "### Potential Improvements:\n",
    "- Use more features (pickup/dropoff locations, day of week, weather) for better models.\n",
    "- Tune hyperparameters (learning rate, regularization strength, hidden layer size) for the MLP.\n",
    "- Try different optimizers, more epochs, or early stopping.\n",
    "\n",
    "### Key Takeaways:\n",
    "1. **Data Handling**: Ibis excels with large data and can save memory and time by pushing computations into a database (DuckDB). Pandas is simpler but may struggle with huge datasets.\n",
    "2. **Modeling**: JAX provides ultimate flexibility at the cost of more coding. Scikit-learn is user-friendly and quick.\n",
    "3. **Scaling Up**: For massive data and complex models, Ibis + JAX can be a powerful combination, enabling distributed or accelerated computing.\n",
    "\n",
    "We’ve now seen how to:\n",
    "- Load and query large data with Ibis and Pandas.\n",
    "- Define a classification problem and preprocess data efficiently.\n",
    "- Implement and compare multiple models (logistic regression and MLP) using scikit-learn and JAX.\n",
    "\n",
    "This should give a strong foundation to approach more complex big-data analytics and custom ML model building."
   ]
  },
  {
   "cell_type": "code",
   "execution_count": null,
   "id": "756a34ae-6bf6-4c16-a367-7ffc9f4394aa",
   "metadata": {},
   "outputs": [],
   "source": []
  }
 ],
 "metadata": {
  "kernelspec": {
   "display_name": "Python 3 (ipykernel)",
   "language": "python",
   "name": "python3"
  },
  "language_info": {
   "codemirror_mode": {
    "name": "ipython",
    "version": 3
   },
   "file_extension": ".py",
   "mimetype": "text/x-python",
   "name": "python",
   "nbconvert_exporter": "python",
   "pygments_lexer": "ipython3",
   "version": "3.12.3"
  }
 },
 "nbformat": 4,
 "nbformat_minor": 5
}
